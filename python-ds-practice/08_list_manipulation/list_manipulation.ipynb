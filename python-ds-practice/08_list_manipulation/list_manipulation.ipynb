{
 "cells": [
  {
   "cell_type": "code",
   "execution_count": 3,
   "id": "8072f8ec",
   "metadata": {},
   "outputs": [],
   "source": [
    "def list_manipulation(lst, command, location, value=None):\n",
    "    \"\"\"Mutate lst to add/remove from beginning or end.\n",
    "\n",
    "    - lst: list of values\n",
    "    - command: command, either \"remove\" or \"add\"\n",
    "    - location: location to remove/add, either \"beginning\" or \"end\"\n",
    "    - value: when adding, value to add\n",
    "\n",
    "    remove: remove item at beginning or end, and return item removed\n",
    "\n",
    "        >>> lst = [1, 2, 3]\n",
    "\n",
    "        >>> list_manipulation(lst, 'remove', 'end')\n",
    "        3\n",
    "\n",
    "        >>> list_manipulation(lst, 'remove', 'beginning')\n",
    "        1\n",
    "\n",
    "        >>> lst\n",
    "        [2]\n",
    "\n",
    "    add: add item at beginning/end, and return list\n",
    "\n",
    "        >>> lst = [1, 2, 3]\n",
    "\n",
    "        >>> list_manipulation(lst, 'add', 'beginning', 20)\n",
    "        [20, 1, 2, 3]\n",
    "\n",
    "        >>> list_manipulation(lst, 'add', 'end', 30)\n",
    "        [20, 1, 2, 3, 30]\n",
    "\n",
    "        >>> lst\n",
    "        [20, 1, 2, 3, 30]\n",
    "\n",
    "    Invalid commands or locations should return None:\n",
    "\n",
    "        >>> list_manipulation(lst, 'foo', 'end') is None\n",
    "        True\n",
    "\n",
    "        >>> list_manipulation(lst, 'add', 'dunno') is None\n",
    "        True\n",
    "    \"\"\"\n",
    "\n",
    "    \n",
    "    if command = 'remove' \n",
    "    \n",
    "    watch more python videos\n",
    "        \n",
    "    \n",
    "    \n",
    "    \n",
    "        \n",
    "     \n",
    "    \n",
    "    \n",
    "    \n",
    "    \n",
    "    # data stracure python\n",
    "    \n",
    "    \n",
    "    \n",
    "    "
   ]
  },
  {
   "cell_type": "code",
   "execution_count": 5,
   "id": "41953bc6",
   "metadata": {},
   "outputs": [
    {
     "name": "stdout",
     "output_type": "stream",
     "text": [
      "[1, 2, 3]\n"
     ]
    }
   ],
   "source": [
    "list_manipulation([1, 2, 3], '','')"
   ]
  },
  {
   "cell_type": "code",
   "execution_count": null,
   "id": "4185b947",
   "metadata": {},
   "outputs": [],
   "source": []
  }
 ],
 "metadata": {
  "kernelspec": {
   "display_name": "Python 3 (ipykernel)",
   "language": "python",
   "name": "python3"
  },
  "language_info": {
   "codemirror_mode": {
    "name": "ipython",
    "version": 3
   },
   "file_extension": ".py",
   "mimetype": "text/x-python",
   "name": "python",
   "nbconvert_exporter": "python",
   "pygments_lexer": "ipython3",
   "version": "3.9.7"
  }
 },
 "nbformat": 4,
 "nbformat_minor": 5
}
