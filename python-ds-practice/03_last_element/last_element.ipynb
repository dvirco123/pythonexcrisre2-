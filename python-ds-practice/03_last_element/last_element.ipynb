{
 "cells": [
  {
   "cell_type": "code",
   "execution_count": 3,
   "id": "51e1834e",
   "metadata": {},
   "outputs": [],
   "source": [
    "def last_element(lst):\n",
    "    \"\"\"Return last item in list (None if list is empty.\n",
    "    \n",
    "        >>> last_element([1, 2, 3])\n",
    "        3\n",
    "        \n",
    "        >>> last_element([]) is None\n",
    "        True\n",
    "    \"\"\"\n",
    "    return lst.pop(-1)"
   ]
  },
  {
   "cell_type": "code",
   "execution_count": null,
   "id": "a5b546c6",
   "metadata": {},
   "outputs": [],
   "source": []
  },
  {
   "cell_type": "code",
   "execution_count": null,
   "id": "c30b866e",
   "metadata": {},
   "outputs": [],
   "source": []
  }
 ],
 "metadata": {
  "kernelspec": {
   "display_name": "Python 3 (ipykernel)",
   "language": "python",
   "name": "python3"
  },
  "language_info": {
   "codemirror_mode": {
    "name": "ipython",
    "version": 3
   },
   "file_extension": ".py",
   "mimetype": "text/x-python",
   "name": "python",
   "nbconvert_exporter": "python",
   "pygments_lexer": "ipython3",
   "version": "3.9.7"
  }
 },
 "nbformat": 4,
 "nbformat_minor": 5
}
