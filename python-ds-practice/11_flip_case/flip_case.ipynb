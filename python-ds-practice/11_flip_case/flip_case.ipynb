{
 "cells": [
  {
   "cell_type": "code",
   "execution_count": 3,
   "id": "9a0d85ba",
   "metadata": {},
   "outputs": [],
   "source": [
    "def flip_case(phrase, to_swap):\n",
    "    \"\"\"Flip [to_swap] case each time it appears in phrase.\n",
    "\n",
    "        >>> flip_case('Aaaahhh', 'a')\n",
    "        'aAAAhhh'\n",
    "\n",
    "        >>> flip_case('Aaaahhh', 'A')\n",
    "        'aAAAhhh'\n",
    "\n",
    "        >>> flip_case('Aaaahhh', 'h')\n",
    "        'AaaaHHH'\n",
    "\n",
    "    \"\"\"\n",
    "    output = ''\n",
    "    to_swap = to_swap.lower() #a\n",
    "    \n",
    "    for l in phrase:\n",
    "        letter = l.lower() # a\n",
    "        if letter ==  to_swap: #a == a\n",
    "            output += l.swapcase() # A\n",
    "        else:\n",
    "            output += l\n",
    "    return output\n",
    "    \n",
    "    \n",
    "    "
   ]
  },
  {
   "cell_type": "code",
   "execution_count": 4,
   "id": "918ce2d8",
   "metadata": {},
   "outputs": [
    {
     "data": {
      "text/plain": [
       "'aAAAhhh'"
      ]
     },
     "execution_count": 4,
     "metadata": {},
     "output_type": "execute_result"
    }
   ],
   "source": [
    "flip_case('Aaaahhh', 'a')"
   ]
  },
  {
   "cell_type": "code",
   "execution_count": null,
   "id": "d6223da1",
   "metadata": {},
   "outputs": [],
   "source": []
  }
 ],
 "metadata": {
  "kernelspec": {
   "display_name": "Python 3 (ipykernel)",
   "language": "python",
   "name": "python3"
  },
  "language_info": {
   "codemirror_mode": {
    "name": "ipython",
    "version": 3
   },
   "file_extension": ".py",
   "mimetype": "text/x-python",
   "name": "python",
   "nbconvert_exporter": "python",
   "pygments_lexer": "ipython3",
   "version": "3.9.7"
  }
 },
 "nbformat": 4,
 "nbformat_minor": 5
}
