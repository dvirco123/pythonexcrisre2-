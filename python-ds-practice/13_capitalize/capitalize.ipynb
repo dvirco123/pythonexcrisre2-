{
 "cells": [
  {
   "cell_type": "code",
   "execution_count": 11,
   "id": "a525ceb4",
   "metadata": {},
   "outputs": [],
   "source": [
    "def capitalize(phrase):\n",
    "    \"\"\"Capitalize first letter of first word of phrase.\n",
    "\n",
    "        >>> capitalize('python')\n",
    "        'Python'\n",
    "\n",
    "        >>> capitalize('only first word')\n",
    "        'Only first word'\n",
    "    \"\"\"\n",
    "\n",
    "\n",
    "    return (phrase.capitalize())"
   ]
  },
  {
   "cell_type": "code",
   "execution_count": 12,
   "id": "1ce52606",
   "metadata": {},
   "outputs": [
    {
     "data": {
      "text/plain": [
       "'Only first word'"
      ]
     },
     "execution_count": 12,
     "metadata": {},
     "output_type": "execute_result"
    }
   ],
   "source": [
    " capitalize('only first word')"
   ]
  },
  {
   "cell_type": "code",
   "execution_count": null,
   "id": "dc5ff9ac",
   "metadata": {},
   "outputs": [],
   "source": []
  }
 ],
 "metadata": {
  "kernelspec": {
   "display_name": "Python 3 (ipykernel)",
   "language": "python",
   "name": "python3"
  },
  "language_info": {
   "codemirror_mode": {
    "name": "ipython",
    "version": 3
   },
   "file_extension": ".py",
   "mimetype": "text/x-python",
   "name": "python",
   "nbconvert_exporter": "python",
   "pygments_lexer": "ipython3",
   "version": "3.9.7"
  }
 },
 "nbformat": 4,
 "nbformat_minor": 5
}
