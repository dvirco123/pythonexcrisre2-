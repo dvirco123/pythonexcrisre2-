{
 "cells": [
  {
   "cell_type": "code",
   "execution_count": 1,
   "id": "5171f88f",
   "metadata": {},
   "outputs": [
    {
     "ename": "SyntaxError",
     "evalue": "EOF while scanning triple-quoted string literal (Temp/ipykernel_16060/707905487.py, line 11)",
     "output_type": "error",
     "traceback": [
      "\u001b[1;36m  File \u001b[1;32m\"C:\\Users\\todvi\\AppData\\Local\\Temp/ipykernel_16060/707905487.py\"\u001b[1;36m, line \u001b[1;32m11\u001b[0m\n\u001b[1;33m    \u001b[0m\n\u001b[1;37m    ^\u001b[0m\n\u001b[1;31mSyntaxError\u001b[0m\u001b[1;31m:\u001b[0m EOF while scanning triple-quoted string literal\n"
     ]
    }
   ],
   "source": [
    "def reverse_string(phrase):\n",
    "    ##how would you do it using slicing and -1\n",
    "    \"\"\"Reverse string,\n",
    "        >>> reverse_string('awesome')\n",
    "        'emosewa'\n",
    "        >>> reverse_string('sauce')\n",
    "        'ecuas'# \n",
    "\n",
    "reversestr=''\n",
    "    for i in reverse_string\n",
    "    "
   ]
  },
  {
   "cell_type": "code",
   "execution_count": 1,
   "id": "52beea0e",
   "metadata": {},
   "outputs": [],
   "source": [
    "    def reverse_string(phrase):\n",
    " \n",
    "        return phrase[::-1]\n"
   ]
  },
  {
   "cell_type": "code",
   "execution_count": 2,
   "id": "633b6692",
   "metadata": {},
   "outputs": [
    {
     "data": {
      "text/plain": [
       "'emosewa'"
      ]
     },
     "execution_count": 2,
     "metadata": {},
     "output_type": "execute_result"
    }
   ],
   "source": [
    "reverse_string('awesome')"
   ]
  },
  {
   "cell_type": "code",
   "execution_count": null,
   "id": "9c868116",
   "metadata": {},
   "outputs": [],
   "source": []
  },
  {
   "cell_type": "code",
   "execution_count": null,
   "id": "435e99bf",
   "metadata": {},
   "outputs": [],
   "source": [
    "    def reverse_string(phrase):\n",
    "    revstr =''\n",
    "    for i in reverse_string:\n",
    "        revstr = i + revstr \n",
    "        return revstr"
   ]
  }
 ],
 "metadata": {
  "kernelspec": {
   "display_name": "Python 3 (ipykernel)",
   "language": "python",
   "name": "python3"
  },
  "language_info": {
   "codemirror_mode": {
    "name": "ipython",
    "version": 3
   },
   "file_extension": ".py",
   "mimetype": "text/x-python",
   "name": "python",
   "nbconvert_exporter": "python",
   "pygments_lexer": "ipython3",
   "version": "3.9.7"
  }
 },
 "nbformat": 4,
 "nbformat_minor": 5
}
