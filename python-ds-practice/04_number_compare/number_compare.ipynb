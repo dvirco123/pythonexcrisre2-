{
 "cells": [
  {
   "cell_type": "code",
   "execution_count": 3,
   "id": "0670957d",
   "metadata": {},
   "outputs": [],
   "source": [
    "def number_compare(a, b):\n",
    "    \"\"\"Report on whether a>b, b>a, or b==a\n",
    "    \n",
    "        >>> number_compare(1, 1)\n",
    "        'Numbers are equal'\n",
    "        \n",
    "        >>> number_compare(-1, 1)\n",
    "        'Second is greater'\n",
    "        \n",
    "        >>> number_compare(1, -2)\n",
    "        'First is greater'\n",
    "    \"\"\"\n",
    "    if a>b:\n",
    "        return 'First is greater'\n",
    "\n",
    "    if b>a:\n",
    "        return 'Second is greater'\n",
    "\n",
    "    else:\n",
    "        return 'Nunbers are equal'\n"
   ]
  },
  {
   "cell_type": "code",
   "execution_count": 4,
   "id": "5a493b44",
   "metadata": {},
   "outputs": [
    {
     "data": {
      "text/plain": [
       "'Second is greater'"
      ]
     },
     "execution_count": 4,
     "metadata": {},
     "output_type": "execute_result"
    }
   ],
   "source": [
    "number_compare(4,6)"
   ]
  },
  {
   "cell_type": "code",
   "execution_count": 5,
   "id": "e8ab5463",
   "metadata": {},
   "outputs": [
    {
     "data": {
      "text/plain": [
       "'Second is greater'"
      ]
     },
     "execution_count": 5,
     "metadata": {},
     "output_type": "execute_result"
    }
   ],
   "source": [
    "number_compare(2,3)"
   ]
  },
  {
   "cell_type": "code",
   "execution_count": null,
   "id": "4f28761a",
   "metadata": {},
   "outputs": [],
   "source": []
  }
 ],
 "metadata": {
  "kernelspec": {
   "display_name": "Python 3 (ipykernel)",
   "language": "python",
   "name": "python3"
  },
  "language_info": {
   "codemirror_mode": {
    "name": "ipython",
    "version": 3
   },
   "file_extension": ".py",
   "mimetype": "text/x-python",
   "name": "python",
   "nbconvert_exporter": "python",
   "pygments_lexer": "ipython3",
   "version": "3.9.7"
  }
 },
 "nbformat": 4,
 "nbformat_minor": 5
}
