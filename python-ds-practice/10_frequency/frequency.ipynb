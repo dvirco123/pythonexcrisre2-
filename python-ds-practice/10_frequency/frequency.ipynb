{
 "cells": [
  {
   "cell_type": "code",
   "execution_count": 11,
   "id": "94310959",
   "metadata": {},
   "outputs": [],
   "source": [
    "def frequency(lst, search_term):\n",
    "    \"\"\"Return frequency of term in lst.\n",
    "    \n",
    "        >>> frequency([1, 4, 3, 4, 4], 4)\n",
    "        3\n",
    "        \n",
    "        >>> frequency([1, 4, 3], 7)\n",
    "        0\n",
    "    \"\"\"\n",
    "    Count = 0\n",
    "    for i in lst:  \n",
    "        if search_term == i:\n",
    "            Count += 1\n",
    "   \n",
    "    return Count\n",
    "\n"
   ]
  },
  {
   "cell_type": "code",
   "execution_count": 12,
   "id": "7f2c4a06",
   "metadata": {},
   "outputs": [
    {
     "data": {
      "text/plain": [
       "3"
      ]
     },
     "execution_count": 12,
     "metadata": {},
     "output_type": "execute_result"
    }
   ],
   "source": [
    "frequency([1, 4, 3, 4, 4], 4)"
   ]
  },
  {
   "cell_type": "code",
   "execution_count": null,
   "id": "5954878f",
   "metadata": {},
   "outputs": [],
   "source": []
  },
  {
   "cell_type": "code",
   "execution_count": null,
   "id": "20ea7c7b",
   "metadata": {},
   "outputs": [],
   "source": []
  },
  {
   "cell_type": "code",
   "execution_count": null,
   "id": "7b381680",
   "metadata": {},
   "outputs": [],
   "source": []
  }
 ],
 "metadata": {
  "kernelspec": {
   "display_name": "Python 3 (ipykernel)",
   "language": "python",
   "name": "python3"
  },
  "language_info": {
   "codemirror_mode": {
    "name": "ipython",
    "version": 3
   },
   "file_extension": ".py",
   "mimetype": "text/x-python",
   "name": "python",
   "nbconvert_exporter": "python",
   "pygments_lexer": "ipython3",
   "version": "3.9.7"
  }
 },
 "nbformat": 4,
 "nbformat_minor": 5
}
