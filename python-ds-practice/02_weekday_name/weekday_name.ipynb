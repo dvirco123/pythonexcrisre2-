{
 "cells": [
  {
   "cell_type": "code",
   "execution_count": 9,
   "id": "392d3965",
   "metadata": {},
   "outputs": [],
   "source": [
    "def weekday_name(day_of_week):\n",
    "    \"\"\"Return name of weekday.\n",
    "    \n",
    "        >>> weekday_name(1)\n",
    "        'Sunday'\n",
    "        \n",
    "        >>> weekday_name(7)\n",
    "        'Saturday'\n",
    "        \n",
    "    For days not between 1 and 7, return None\n",
    "    \n",
    "        >>> weekday_name(9)\n",
    "        >>> weekday_name(0)\n",
    "    \"\"\"\n",
    "    if day_of_week == (1):\n",
    "        return \"sunday\"\n",
    "    if day_of_week == (2):\n",
    "        return \"Monday\"\n",
    "    if day_of_week == (3):\n",
    "        return \"Tuesday\"\n",
    "    if day_of_week == (4):\n",
    "        return \"Wednesday\"\n",
    "    if day_of_week == (5):\n",
    "        return \"Thuersday\"\n",
    "    if day_of_week == (6):\n",
    "        return \"Friday\" \n",
    "    if day_of_week == (7):\n",
    "        return \"Saturday\""
   ]
  },
  {
   "cell_type": "code",
   "execution_count": 10,
   "id": "5d3be9d2",
   "metadata": {},
   "outputs": [
    {
     "ename": "NameError",
     "evalue": "name 'day_of_week' is not defined",
     "output_type": "error",
     "traceback": [
      "\u001b[1;31m---------------------------------------------------------------------------\u001b[0m",
      "\u001b[1;31mNameError\u001b[0m                                 Traceback (most recent call last)",
      "\u001b[1;32m~\\AppData\\Local\\Temp/ipykernel_1148/3811715483.py\u001b[0m in \u001b[0;36m<module>\u001b[1;34m\u001b[0m\n\u001b[1;32m----> 1\u001b[1;33m \u001b[0mday_of_week\u001b[0m \u001b[1;33m==\u001b[0m \u001b[1;36m1\u001b[0m\u001b[1;33m\u001b[0m\u001b[1;33m\u001b[0m\u001b[0m\n\u001b[0m",
      "\u001b[1;31mNameError\u001b[0m: name 'day_of_week' is not defined"
     ]
    }
   ],
   "source": [
    "day_of_week == 1"
   ]
  },
  {
   "cell_type": "code",
   "execution_count": 11,
   "id": "2e2f50eb",
   "metadata": {},
   "outputs": [
    {
     "ename": "NameError",
     "evalue": "name 'day_of_week' is not defined",
     "output_type": "error",
     "traceback": [
      "\u001b[1;31m---------------------------------------------------------------------------\u001b[0m",
      "\u001b[1;31mNameError\u001b[0m                                 Traceback (most recent call last)",
      "\u001b[1;32m~\\AppData\\Local\\Temp/ipykernel_1148/3176943207.py\u001b[0m in \u001b[0;36m<module>\u001b[1;34m\u001b[0m\n\u001b[1;32m----> 1\u001b[1;33m \u001b[0mday_of_week\u001b[0m \u001b[1;33m==\u001b[0m\u001b[1;33m(\u001b[0m\u001b[1;36m2\u001b[0m\u001b[1;33m)\u001b[0m\u001b[1;33m\u001b[0m\u001b[1;33m\u001b[0m\u001b[0m\n\u001b[0m",
      "\u001b[1;31mNameError\u001b[0m: name 'day_of_week' is not defined"
     ]
    }
   ],
   "source": [
    "day_of_week ==(2)"
   ]
  },
  {
   "cell_type": "code",
   "execution_count": 12,
   "id": "d0938934",
   "metadata": {},
   "outputs": [
    {
     "ename": "NameError",
     "evalue": "name 'week_day' is not defined",
     "output_type": "error",
     "traceback": [
      "\u001b[1;31m---------------------------------------------------------------------------\u001b[0m",
      "\u001b[1;31mNameError\u001b[0m                                 Traceback (most recent call last)",
      "\u001b[1;32m~\\AppData\\Local\\Temp/ipykernel_1148/2770112253.py\u001b[0m in \u001b[0;36m<module>\u001b[1;34m\u001b[0m\n\u001b[1;32m----> 1\u001b[1;33m \u001b[0mweek_day\u001b[0m\u001b[1;33m(\u001b[0m\u001b[1;36m2\u001b[0m\u001b[1;33m)\u001b[0m\u001b[1;33m\u001b[0m\u001b[1;33m\u001b[0m\u001b[0m\n\u001b[0m",
      "\u001b[1;31mNameError\u001b[0m: name 'week_day' is not defined"
     ]
    }
   ],
   "source": [
    "week_day(2)"
   ]
  },
  {
   "cell_type": "code",
   "execution_count": 13,
   "id": "96518999",
   "metadata": {},
   "outputs": [
    {
     "ename": "NameError",
     "evalue": "name 'day_of_week' is not defined",
     "output_type": "error",
     "traceback": [
      "\u001b[1;31m---------------------------------------------------------------------------\u001b[0m",
      "\u001b[1;31mNameError\u001b[0m                                 Traceback (most recent call last)",
      "\u001b[1;32m~\\AppData\\Local\\Temp/ipykernel_1148/722580852.py\u001b[0m in \u001b[0;36m<module>\u001b[1;34m\u001b[0m\n\u001b[1;32m----> 1\u001b[1;33m \u001b[0mday_of_week\u001b[0m\u001b[1;33m(\u001b[0m\u001b[1;36m2\u001b[0m\u001b[1;33m)\u001b[0m\u001b[1;33m\u001b[0m\u001b[1;33m\u001b[0m\u001b[0m\n\u001b[0m",
      "\u001b[1;31mNameError\u001b[0m: name 'day_of_week' is not defined"
     ]
    }
   ],
   "source": [
    "day_of_week(2)"
   ]
  },
  {
   "cell_type": "code",
   "execution_count": 14,
   "id": "4457a751",
   "metadata": {},
   "outputs": [
    {
     "data": {
      "text/plain": [
       "'Monday'"
      ]
     },
     "execution_count": 14,
     "metadata": {},
     "output_type": "execute_result"
    }
   ],
   "source": [
    "weekday_name(2)"
   ]
  },
  {
   "cell_type": "code",
   "execution_count": null,
   "id": "df70d174",
   "metadata": {},
   "outputs": [],
   "source": []
  }
 ],
 "metadata": {
  "kernelspec": {
   "display_name": "Python 3 (ipykernel)",
   "language": "python",
   "name": "python3"
  },
  "language_info": {
   "codemirror_mode": {
    "name": "ipython",
    "version": 3
   },
   "file_extension": ".py",
   "mimetype": "text/x-python",
   "name": "python",
   "nbconvert_exporter": "python",
   "pygments_lexer": "ipython3",
   "version": "3.9.7"
  }
 },
 "nbformat": 4,
 "nbformat_minor": 5
}
