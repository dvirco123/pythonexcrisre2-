{
 "cells": [
  {
   "cell_type": "code",
   "execution_count": 7,
   "id": "7ced42a2",
   "metadata": {},
   "outputs": [],
   "source": [
    "def multiple_letter_count(phrase):\n",
    "    \"\"\"Return dict of {ltr: frequency} from phrase.\n",
    "\n",
    "        >>> multiple_letter_count('yay')\n",
    "        {'y': 2, 'a': 1}\n",
    "\n",
    "        >>> multiple_letter_count('Yay')\n",
    "        {'Y': 1, 'a': 1, 'y': 1}\n",
    "    \"\"\"\n",
    "\n",
    "    D = {}\n",
    "    for key in phrase:\n",
    "        val =  D.get(key, 0)\n",
    "        print(val)\n",
    "        D[key] = val + 1\n",
    "\n",
    "            \n",
    "    return D       "
   ]
  },
  {
   "cell_type": "code",
   "execution_count": 9,
   "id": "6960bbae",
   "metadata": {},
   "outputs": [
    {
     "name": "stdout",
     "output_type": "stream",
     "text": [
      "0\n",
      "0\n",
      "0\n",
      "1\n",
      "0\n",
      "2\n"
     ]
    },
    {
     "data": {
      "text/plain": [
       "{'h': 1, 'e': 1, 'l': 3, 'o': 1}"
      ]
     },
     "execution_count": 9,
     "metadata": {},
     "output_type": "execute_result"
    }
   ],
   "source": [
    "multiple_letter_count('hellol')"
   ]
  },
  {
   "cell_type": "code",
   "execution_count": null,
   "id": "c6009020",
   "metadata": {},
   "outputs": [],
   "source": []
  }
 ],
 "metadata": {
  "kernelspec": {
   "display_name": "Python 3 (ipykernel)",
   "language": "python",
   "name": "python3"
  },
  "language_info": {
   "codemirror_mode": {
    "name": "ipython",
    "version": 3
   },
   "file_extension": ".py",
   "mimetype": "text/x-python",
   "name": "python",
   "nbconvert_exporter": "python",
   "pygments_lexer": "ipython3",
   "version": "3.9.7"
  }
 },
 "nbformat": 4,
 "nbformat_minor": 5
}
