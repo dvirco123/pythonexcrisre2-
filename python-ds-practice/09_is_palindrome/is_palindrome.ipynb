{
 "cells": [
  {
   "cell_type": "code",
   "execution_count": 5,
   "id": "dbcd2275",
   "metadata": {},
   "outputs": [],
   "source": [
    "def is_palindrome(phrase):\n",
    "    \"\"\"Is phrase a palindrome?\n",
    "\n",
    "    Return True/False if phrase is a palindrome (same read backwards and\n",
    "    forwards).\n",
    "\n",
    "        >>> is_palindrome('tacocat')\n",
    "        True\n",
    "\n",
    "        >>> is_palindrome('noon')\n",
    "        True\n",
    "\n",
    "        >>> is_palindrome('robert')\n",
    "        False\n",
    "\n",
    "    Should ignore capitalization/spaces when deciding:\n",
    "\n",
    "        >>> is_palindrome('taco cat')\n",
    "        True\n",
    "\n",
    "        >>> is_palindrome('Noon')\n",
    "        True\n",
    "    \"\"\"\n",
    "    \n",
    "   # msg: \"is phrase a palindrome?\"\n",
    "\n",
    "\n",
    "    phrase = phrase.casefold() \n",
    "    rev_phrase = reversed(phrase)\n",
    "    if list(phrase) == list(rev_phrase):\n",
    "        return True\n",
    "    else:\n",
    "        return False\n",
    "    \n",
    "   \n",
    "        \n",
    "\n",
    "\n",
    "    \n",
    "    \n",
    "    \n",
    "    \n",
    "    "
   ]
  },
  {
   "cell_type": "code",
   "execution_count": 9,
   "id": "30ae1618",
   "metadata": {},
   "outputs": [],
   "source": [
    "is_palindrome('bad')"
   ]
  },
  {
   "cell_type": "code",
   "execution_count": null,
   "id": "e7a8073c",
   "metadata": {},
   "outputs": [],
   "source": []
  }
 ],
 "metadata": {
  "kernelspec": {
   "display_name": "Python 3 (ipykernel)",
   "language": "python",
   "name": "python3"
  },
  "language_info": {
   "codemirror_mode": {
    "name": "ipython",
    "version": 3
   },
   "file_extension": ".py",
   "mimetype": "text/x-python",
   "name": "python",
   "nbconvert_exporter": "python",
   "pygments_lexer": "ipython3",
   "version": "3.9.7"
  }
 },
 "nbformat": 4,
 "nbformat_minor": 5
}
