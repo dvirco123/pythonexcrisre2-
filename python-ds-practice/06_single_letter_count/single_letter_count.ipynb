{
 "cells": [
  {
   "cell_type": "code",
   "execution_count": 5,
   "id": "d878d3ad",
   "metadata": {},
   "outputs": [],
   "source": [
    "def single_letter_count(word, letter):\n",
    "    \"\"\"How many times does letter appear in word (case-insensitively)?\n",
    "    \n",
    "        >>> single_letter_count('hello world', 'H')\n",
    "        1\n",
    "        \n",
    "        >>> single_letter_count('Hello World', 'z')\n",
    "        0\n",
    "        \n",
    "        >>> single_letter_count(\"Hello World\", 'l')\n",
    "        3\n",
    "    \"\"\"\n",
    "  \n",
    "    letter_tosearch =  letter.lower()\n",
    "    word_searchfrom =  word.lower()\n",
    "    lettcount = 0 \n",
    "    lettcount = word_searchfrom.count(letter_tosearch)\n",
    "  \n",
    "     \n",
    "    return lettcount"
   ]
  },
  {
   "cell_type": "markdown",
   "id": "50b2421d",
   "metadata": {},
   "source": []
  },
  {
   "cell_type": "code",
   "execution_count": 7,
   "id": "7551f149",
   "metadata": {},
   "outputs": [
    {
     "data": {
      "text/plain": [
       "1"
      ]
     },
     "execution_count": 7,
     "metadata": {},
     "output_type": "execute_result"
    }
   ],
   "source": [
    " single_letter_count('hello World', 'H')"
   ]
  },
  {
   "cell_type": "code",
   "execution_count": null,
   "id": "0d9ac0e6",
   "metadata": {},
   "outputs": [],
   "source": []
  }
 ],
 "metadata": {
  "kernelspec": {
   "display_name": "Python 3 (ipykernel)",
   "language": "python",
   "name": "python3"
  },
  "language_info": {
   "codemirror_mode": {
    "name": "ipython",
    "version": 3
   },
   "file_extension": ".py",
   "mimetype": "text/x-python",
   "name": "python",
   "nbconvert_exporter": "python",
   "pygments_lexer": "ipython3",
   "version": "3.9.7"
  }
 },
 "nbformat": 4,
 "nbformat_minor": 5
}
